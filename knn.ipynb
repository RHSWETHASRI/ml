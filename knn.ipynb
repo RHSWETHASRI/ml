{
 "cells": [
  {
   "cell_type": "markdown",
   "id": "829ad383",
   "metadata": {},
   "source": [
    "IMPORTING LIBRARY"
   ]
  },
  {
   "cell_type": "code",
   "execution_count": 2,
   "id": "43de841d",
   "metadata": {},
   "outputs": [],
   "source": [
    "import numpy as np\n",
    "import pandas as pd\n",
    "from sklearn.preprocessing import LabelEncoder\n",
    "import warnings\n",
    "warnings.filterwarnings('ignore')"
   ]
  },
  {
   "cell_type": "code",
   "execution_count": 3,
   "id": "9df076a4",
   "metadata": {},
   "outputs": [],
   "source": [
    "import matplotlib.pyplot as plt\n",
    "%matplotlib inline\n",
    "import seaborn as sns"
   ]
  },
  {
   "cell_type": "markdown",
   "id": "72f77d2b",
   "metadata": {},
   "source": [
    "READING THE DATA SET"
   ]
  },
  {
   "cell_type": "code",
   "execution_count": 4,
   "id": "c9ce0295",
   "metadata": {},
   "outputs": [],
   "source": [
    "df=pd.read_csv('IRIS.csv')"
   ]
  },
  {
   "cell_type": "markdown",
   "id": "c12f91e6",
   "metadata": {},
   "source": [
    "DISPLAYING TOP 5 RECORDS"
   ]
  },
  {
   "cell_type": "code",
   "execution_count": 5,
   "id": "92a538af",
   "metadata": {},
   "outputs": [
    {
     "data": {
      "text/html": [
       "<div>\n",
       "<style scoped>\n",
       "    .dataframe tbody tr th:only-of-type {\n",
       "        vertical-align: middle;\n",
       "    }\n",
       "\n",
       "    .dataframe tbody tr th {\n",
       "        vertical-align: top;\n",
       "    }\n",
       "\n",
       "    .dataframe thead th {\n",
       "        text-align: right;\n",
       "    }\n",
       "</style>\n",
       "<table border=\"1\" class=\"dataframe\">\n",
       "  <thead>\n",
       "    <tr style=\"text-align: right;\">\n",
       "      <th></th>\n",
       "      <th>sepal_length</th>\n",
       "      <th>sepal_width</th>\n",
       "      <th>petal_length</th>\n",
       "      <th>petal_width</th>\n",
       "      <th>species</th>\n",
       "    </tr>\n",
       "  </thead>\n",
       "  <tbody>\n",
       "    <tr>\n",
       "      <th>0</th>\n",
       "      <td>5.1</td>\n",
       "      <td>3.5</td>\n",
       "      <td>1.4</td>\n",
       "      <td>0.2</td>\n",
       "      <td>Iris-setosa</td>\n",
       "    </tr>\n",
       "    <tr>\n",
       "      <th>1</th>\n",
       "      <td>4.9</td>\n",
       "      <td>3.0</td>\n",
       "      <td>1.4</td>\n",
       "      <td>0.2</td>\n",
       "      <td>Iris-setosa</td>\n",
       "    </tr>\n",
       "    <tr>\n",
       "      <th>2</th>\n",
       "      <td>4.7</td>\n",
       "      <td>3.2</td>\n",
       "      <td>1.3</td>\n",
       "      <td>0.2</td>\n",
       "      <td>Iris-setosa</td>\n",
       "    </tr>\n",
       "    <tr>\n",
       "      <th>3</th>\n",
       "      <td>4.6</td>\n",
       "      <td>3.1</td>\n",
       "      <td>1.5</td>\n",
       "      <td>0.2</td>\n",
       "      <td>Iris-setosa</td>\n",
       "    </tr>\n",
       "    <tr>\n",
       "      <th>4</th>\n",
       "      <td>5.0</td>\n",
       "      <td>3.6</td>\n",
       "      <td>1.4</td>\n",
       "      <td>0.2</td>\n",
       "      <td>Iris-setosa</td>\n",
       "    </tr>\n",
       "  </tbody>\n",
       "</table>\n",
       "</div>"
      ],
      "text/plain": [
       "   sepal_length  sepal_width  petal_length  petal_width      species\n",
       "0           5.1          3.5           1.4          0.2  Iris-setosa\n",
       "1           4.9          3.0           1.4          0.2  Iris-setosa\n",
       "2           4.7          3.2           1.3          0.2  Iris-setosa\n",
       "3           4.6          3.1           1.5          0.2  Iris-setosa\n",
       "4           5.0          3.6           1.4          0.2  Iris-setosa"
      ]
     },
     "execution_count": 5,
     "metadata": {},
     "output_type": "execute_result"
    }
   ],
   "source": [
    "df.head()"
   ]
  },
  {
   "cell_type": "markdown",
   "id": "980495bc",
   "metadata": {},
   "source": [
    "DESCRIBING THE COLUMNS IN DATA SET"
   ]
  },
  {
   "cell_type": "code",
   "execution_count": 6,
   "id": "bd0d0ea8",
   "metadata": {},
   "outputs": [
    {
     "name": "stdout",
     "output_type": "stream",
     "text": [
      "<class 'pandas.core.frame.DataFrame'>\n",
      "RangeIndex: 150 entries, 0 to 149\n",
      "Data columns (total 5 columns):\n",
      " #   Column        Non-Null Count  Dtype  \n",
      "---  ------        --------------  -----  \n",
      " 0   sepal_length  150 non-null    float64\n",
      " 1   sepal_width   150 non-null    float64\n",
      " 2   petal_length  150 non-null    float64\n",
      " 3   petal_width   150 non-null    float64\n",
      " 4   species       150 non-null    object \n",
      "dtypes: float64(4), object(1)\n",
      "memory usage: 6.0+ KB\n"
     ]
    }
   ],
   "source": [
    "df.info()"
   ]
  },
  {
   "cell_type": "code",
   "execution_count": 7,
   "id": "d9003504",
   "metadata": {},
   "outputs": [],
   "source": [
    "subset=df.loc[:,'sepal_length':'petal_width']"
   ]
  },
  {
   "cell_type": "code",
   "execution_count": 8,
   "id": "95d401a8",
   "metadata": {},
   "outputs": [],
   "source": [
    "df1=subset"
   ]
  },
  {
   "cell_type": "code",
   "execution_count": 9,
   "id": "8f3fa73f",
   "metadata": {},
   "outputs": [
    {
     "data": {
      "text/html": [
       "<div>\n",
       "<style scoped>\n",
       "    .dataframe tbody tr th:only-of-type {\n",
       "        vertical-align: middle;\n",
       "    }\n",
       "\n",
       "    .dataframe tbody tr th {\n",
       "        vertical-align: top;\n",
       "    }\n",
       "\n",
       "    .dataframe thead th {\n",
       "        text-align: right;\n",
       "    }\n",
       "</style>\n",
       "<table border=\"1\" class=\"dataframe\">\n",
       "  <thead>\n",
       "    <tr style=\"text-align: right;\">\n",
       "      <th></th>\n",
       "      <th>sepal_length</th>\n",
       "      <th>sepal_width</th>\n",
       "      <th>petal_length</th>\n",
       "      <th>petal_width</th>\n",
       "    </tr>\n",
       "  </thead>\n",
       "  <tbody>\n",
       "    <tr>\n",
       "      <th>0</th>\n",
       "      <td>5.1</td>\n",
       "      <td>3.5</td>\n",
       "      <td>1.4</td>\n",
       "      <td>0.2</td>\n",
       "    </tr>\n",
       "    <tr>\n",
       "      <th>1</th>\n",
       "      <td>4.9</td>\n",
       "      <td>3.0</td>\n",
       "      <td>1.4</td>\n",
       "      <td>0.2</td>\n",
       "    </tr>\n",
       "    <tr>\n",
       "      <th>2</th>\n",
       "      <td>4.7</td>\n",
       "      <td>3.2</td>\n",
       "      <td>1.3</td>\n",
       "      <td>0.2</td>\n",
       "    </tr>\n",
       "    <tr>\n",
       "      <th>3</th>\n",
       "      <td>4.6</td>\n",
       "      <td>3.1</td>\n",
       "      <td>1.5</td>\n",
       "      <td>0.2</td>\n",
       "    </tr>\n",
       "    <tr>\n",
       "      <th>4</th>\n",
       "      <td>5.0</td>\n",
       "      <td>3.6</td>\n",
       "      <td>1.4</td>\n",
       "      <td>0.2</td>\n",
       "    </tr>\n",
       "    <tr>\n",
       "      <th>...</th>\n",
       "      <td>...</td>\n",
       "      <td>...</td>\n",
       "      <td>...</td>\n",
       "      <td>...</td>\n",
       "    </tr>\n",
       "    <tr>\n",
       "      <th>145</th>\n",
       "      <td>6.7</td>\n",
       "      <td>3.0</td>\n",
       "      <td>5.2</td>\n",
       "      <td>2.3</td>\n",
       "    </tr>\n",
       "    <tr>\n",
       "      <th>146</th>\n",
       "      <td>6.3</td>\n",
       "      <td>2.5</td>\n",
       "      <td>5.0</td>\n",
       "      <td>1.9</td>\n",
       "    </tr>\n",
       "    <tr>\n",
       "      <th>147</th>\n",
       "      <td>6.5</td>\n",
       "      <td>3.0</td>\n",
       "      <td>5.2</td>\n",
       "      <td>2.0</td>\n",
       "    </tr>\n",
       "    <tr>\n",
       "      <th>148</th>\n",
       "      <td>6.2</td>\n",
       "      <td>3.4</td>\n",
       "      <td>5.4</td>\n",
       "      <td>2.3</td>\n",
       "    </tr>\n",
       "    <tr>\n",
       "      <th>149</th>\n",
       "      <td>5.9</td>\n",
       "      <td>3.0</td>\n",
       "      <td>5.1</td>\n",
       "      <td>1.8</td>\n",
       "    </tr>\n",
       "  </tbody>\n",
       "</table>\n",
       "<p>150 rows × 4 columns</p>\n",
       "</div>"
      ],
      "text/plain": [
       "     sepal_length  sepal_width  petal_length  petal_width\n",
       "0             5.1          3.5           1.4          0.2\n",
       "1             4.9          3.0           1.4          0.2\n",
       "2             4.7          3.2           1.3          0.2\n",
       "3             4.6          3.1           1.5          0.2\n",
       "4             5.0          3.6           1.4          0.2\n",
       "..            ...          ...           ...          ...\n",
       "145           6.7          3.0           5.2          2.3\n",
       "146           6.3          2.5           5.0          1.9\n",
       "147           6.5          3.0           5.2          2.0\n",
       "148           6.2          3.4           5.4          2.3\n",
       "149           5.9          3.0           5.1          1.8\n",
       "\n",
       "[150 rows x 4 columns]"
      ]
     },
     "execution_count": 9,
     "metadata": {},
     "output_type": "execute_result"
    }
   ],
   "source": [
    "df1"
   ]
  },
  {
   "cell_type": "markdown",
   "id": "9a80cb2e",
   "metadata": {},
   "source": [
    "SPLITING DATA SETS AS X AND Y(TARGET)"
   ]
  },
  {
   "cell_type": "code",
   "execution_count": 10,
   "id": "ca42c220",
   "metadata": {},
   "outputs": [],
   "source": [
    "x=df1"
   ]
  },
  {
   "cell_type": "code",
   "execution_count": 11,
   "id": "9e23a395",
   "metadata": {},
   "outputs": [
    {
     "data": {
      "text/html": [
       "<div>\n",
       "<style scoped>\n",
       "    .dataframe tbody tr th:only-of-type {\n",
       "        vertical-align: middle;\n",
       "    }\n",
       "\n",
       "    .dataframe tbody tr th {\n",
       "        vertical-align: top;\n",
       "    }\n",
       "\n",
       "    .dataframe thead th {\n",
       "        text-align: right;\n",
       "    }\n",
       "</style>\n",
       "<table border=\"1\" class=\"dataframe\">\n",
       "  <thead>\n",
       "    <tr style=\"text-align: right;\">\n",
       "      <th></th>\n",
       "      <th>sepal_length</th>\n",
       "      <th>sepal_width</th>\n",
       "      <th>petal_length</th>\n",
       "      <th>petal_width</th>\n",
       "    </tr>\n",
       "  </thead>\n",
       "  <tbody>\n",
       "    <tr>\n",
       "      <th>0</th>\n",
       "      <td>5.1</td>\n",
       "      <td>3.5</td>\n",
       "      <td>1.4</td>\n",
       "      <td>0.2</td>\n",
       "    </tr>\n",
       "    <tr>\n",
       "      <th>1</th>\n",
       "      <td>4.9</td>\n",
       "      <td>3.0</td>\n",
       "      <td>1.4</td>\n",
       "      <td>0.2</td>\n",
       "    </tr>\n",
       "    <tr>\n",
       "      <th>2</th>\n",
       "      <td>4.7</td>\n",
       "      <td>3.2</td>\n",
       "      <td>1.3</td>\n",
       "      <td>0.2</td>\n",
       "    </tr>\n",
       "    <tr>\n",
       "      <th>3</th>\n",
       "      <td>4.6</td>\n",
       "      <td>3.1</td>\n",
       "      <td>1.5</td>\n",
       "      <td>0.2</td>\n",
       "    </tr>\n",
       "    <tr>\n",
       "      <th>4</th>\n",
       "      <td>5.0</td>\n",
       "      <td>3.6</td>\n",
       "      <td>1.4</td>\n",
       "      <td>0.2</td>\n",
       "    </tr>\n",
       "    <tr>\n",
       "      <th>...</th>\n",
       "      <td>...</td>\n",
       "      <td>...</td>\n",
       "      <td>...</td>\n",
       "      <td>...</td>\n",
       "    </tr>\n",
       "    <tr>\n",
       "      <th>145</th>\n",
       "      <td>6.7</td>\n",
       "      <td>3.0</td>\n",
       "      <td>5.2</td>\n",
       "      <td>2.3</td>\n",
       "    </tr>\n",
       "    <tr>\n",
       "      <th>146</th>\n",
       "      <td>6.3</td>\n",
       "      <td>2.5</td>\n",
       "      <td>5.0</td>\n",
       "      <td>1.9</td>\n",
       "    </tr>\n",
       "    <tr>\n",
       "      <th>147</th>\n",
       "      <td>6.5</td>\n",
       "      <td>3.0</td>\n",
       "      <td>5.2</td>\n",
       "      <td>2.0</td>\n",
       "    </tr>\n",
       "    <tr>\n",
       "      <th>148</th>\n",
       "      <td>6.2</td>\n",
       "      <td>3.4</td>\n",
       "      <td>5.4</td>\n",
       "      <td>2.3</td>\n",
       "    </tr>\n",
       "    <tr>\n",
       "      <th>149</th>\n",
       "      <td>5.9</td>\n",
       "      <td>3.0</td>\n",
       "      <td>5.1</td>\n",
       "      <td>1.8</td>\n",
       "    </tr>\n",
       "  </tbody>\n",
       "</table>\n",
       "<p>150 rows × 4 columns</p>\n",
       "</div>"
      ],
      "text/plain": [
       "     sepal_length  sepal_width  petal_length  petal_width\n",
       "0             5.1          3.5           1.4          0.2\n",
       "1             4.9          3.0           1.4          0.2\n",
       "2             4.7          3.2           1.3          0.2\n",
       "3             4.6          3.1           1.5          0.2\n",
       "4             5.0          3.6           1.4          0.2\n",
       "..            ...          ...           ...          ...\n",
       "145           6.7          3.0           5.2          2.3\n",
       "146           6.3          2.5           5.0          1.9\n",
       "147           6.5          3.0           5.2          2.0\n",
       "148           6.2          3.4           5.4          2.3\n",
       "149           5.9          3.0           5.1          1.8\n",
       "\n",
       "[150 rows x 4 columns]"
      ]
     },
     "execution_count": 11,
     "metadata": {},
     "output_type": "execute_result"
    }
   ],
   "source": [
    "x\n"
   ]
  },
  {
   "cell_type": "code",
   "execution_count": 12,
   "id": "ad10168f",
   "metadata": {},
   "outputs": [],
   "source": [
    "y=df.iloc[:,4:].values"
   ]
  },
  {
   "cell_type": "code",
   "execution_count": 13,
   "id": "c9f1db5f",
   "metadata": {},
   "outputs": [
    {
     "data": {
      "text/plain": [
       "array([['Iris-setosa'],\n",
       "       ['Iris-setosa'],\n",
       "       ['Iris-setosa'],\n",
       "       ['Iris-setosa'],\n",
       "       ['Iris-setosa'],\n",
       "       ['Iris-setosa'],\n",
       "       ['Iris-setosa'],\n",
       "       ['Iris-setosa'],\n",
       "       ['Iris-setosa'],\n",
       "       ['Iris-setosa'],\n",
       "       ['Iris-setosa'],\n",
       "       ['Iris-setosa'],\n",
       "       ['Iris-setosa'],\n",
       "       ['Iris-setosa'],\n",
       "       ['Iris-setosa'],\n",
       "       ['Iris-setosa'],\n",
       "       ['Iris-setosa'],\n",
       "       ['Iris-setosa'],\n",
       "       ['Iris-setosa'],\n",
       "       ['Iris-setosa'],\n",
       "       ['Iris-setosa'],\n",
       "       ['Iris-setosa'],\n",
       "       ['Iris-setosa'],\n",
       "       ['Iris-setosa'],\n",
       "       ['Iris-setosa'],\n",
       "       ['Iris-setosa'],\n",
       "       ['Iris-setosa'],\n",
       "       ['Iris-setosa'],\n",
       "       ['Iris-setosa'],\n",
       "       ['Iris-setosa'],\n",
       "       ['Iris-setosa'],\n",
       "       ['Iris-setosa'],\n",
       "       ['Iris-setosa'],\n",
       "       ['Iris-setosa'],\n",
       "       ['Iris-setosa'],\n",
       "       ['Iris-setosa'],\n",
       "       ['Iris-setosa'],\n",
       "       ['Iris-setosa'],\n",
       "       ['Iris-setosa'],\n",
       "       ['Iris-setosa'],\n",
       "       ['Iris-setosa'],\n",
       "       ['Iris-setosa'],\n",
       "       ['Iris-setosa'],\n",
       "       ['Iris-setosa'],\n",
       "       ['Iris-setosa'],\n",
       "       ['Iris-setosa'],\n",
       "       ['Iris-setosa'],\n",
       "       ['Iris-setosa'],\n",
       "       ['Iris-setosa'],\n",
       "       ['Iris-setosa'],\n",
       "       ['Iris-versicolor'],\n",
       "       ['Iris-versicolor'],\n",
       "       ['Iris-versicolor'],\n",
       "       ['Iris-versicolor'],\n",
       "       ['Iris-versicolor'],\n",
       "       ['Iris-versicolor'],\n",
       "       ['Iris-versicolor'],\n",
       "       ['Iris-versicolor'],\n",
       "       ['Iris-versicolor'],\n",
       "       ['Iris-versicolor'],\n",
       "       ['Iris-versicolor'],\n",
       "       ['Iris-versicolor'],\n",
       "       ['Iris-versicolor'],\n",
       "       ['Iris-versicolor'],\n",
       "       ['Iris-versicolor'],\n",
       "       ['Iris-versicolor'],\n",
       "       ['Iris-versicolor'],\n",
       "       ['Iris-versicolor'],\n",
       "       ['Iris-versicolor'],\n",
       "       ['Iris-versicolor'],\n",
       "       ['Iris-versicolor'],\n",
       "       ['Iris-versicolor'],\n",
       "       ['Iris-versicolor'],\n",
       "       ['Iris-versicolor'],\n",
       "       ['Iris-versicolor'],\n",
       "       ['Iris-versicolor'],\n",
       "       ['Iris-versicolor'],\n",
       "       ['Iris-versicolor'],\n",
       "       ['Iris-versicolor'],\n",
       "       ['Iris-versicolor'],\n",
       "       ['Iris-versicolor'],\n",
       "       ['Iris-versicolor'],\n",
       "       ['Iris-versicolor'],\n",
       "       ['Iris-versicolor'],\n",
       "       ['Iris-versicolor'],\n",
       "       ['Iris-versicolor'],\n",
       "       ['Iris-versicolor'],\n",
       "       ['Iris-versicolor'],\n",
       "       ['Iris-versicolor'],\n",
       "       ['Iris-versicolor'],\n",
       "       ['Iris-versicolor'],\n",
       "       ['Iris-versicolor'],\n",
       "       ['Iris-versicolor'],\n",
       "       ['Iris-versicolor'],\n",
       "       ['Iris-versicolor'],\n",
       "       ['Iris-versicolor'],\n",
       "       ['Iris-versicolor'],\n",
       "       ['Iris-versicolor'],\n",
       "       ['Iris-versicolor'],\n",
       "       ['Iris-versicolor'],\n",
       "       ['Iris-virginica'],\n",
       "       ['Iris-virginica'],\n",
       "       ['Iris-virginica'],\n",
       "       ['Iris-virginica'],\n",
       "       ['Iris-virginica'],\n",
       "       ['Iris-virginica'],\n",
       "       ['Iris-virginica'],\n",
       "       ['Iris-virginica'],\n",
       "       ['Iris-virginica'],\n",
       "       ['Iris-virginica'],\n",
       "       ['Iris-virginica'],\n",
       "       ['Iris-virginica'],\n",
       "       ['Iris-virginica'],\n",
       "       ['Iris-virginica'],\n",
       "       ['Iris-virginica'],\n",
       "       ['Iris-virginica'],\n",
       "       ['Iris-virginica'],\n",
       "       ['Iris-virginica'],\n",
       "       ['Iris-virginica'],\n",
       "       ['Iris-virginica'],\n",
       "       ['Iris-virginica'],\n",
       "       ['Iris-virginica'],\n",
       "       ['Iris-virginica'],\n",
       "       ['Iris-virginica'],\n",
       "       ['Iris-virginica'],\n",
       "       ['Iris-virginica'],\n",
       "       ['Iris-virginica'],\n",
       "       ['Iris-virginica'],\n",
       "       ['Iris-virginica'],\n",
       "       ['Iris-virginica'],\n",
       "       ['Iris-virginica'],\n",
       "       ['Iris-virginica'],\n",
       "       ['Iris-virginica'],\n",
       "       ['Iris-virginica'],\n",
       "       ['Iris-virginica'],\n",
       "       ['Iris-virginica'],\n",
       "       ['Iris-virginica'],\n",
       "       ['Iris-virginica'],\n",
       "       ['Iris-virginica'],\n",
       "       ['Iris-virginica'],\n",
       "       ['Iris-virginica'],\n",
       "       ['Iris-virginica'],\n",
       "       ['Iris-virginica'],\n",
       "       ['Iris-virginica'],\n",
       "       ['Iris-virginica'],\n",
       "       ['Iris-virginica'],\n",
       "       ['Iris-virginica'],\n",
       "       ['Iris-virginica'],\n",
       "       ['Iris-virginica'],\n",
       "       ['Iris-virginica']], dtype=object)"
      ]
     },
     "execution_count": 13,
     "metadata": {},
     "output_type": "execute_result"
    }
   ],
   "source": [
    "y"
   ]
  },
  {
   "cell_type": "markdown",
   "id": "5f03725c",
   "metadata": {},
   "source": [
    "SPLITTING DATA AS TRAINING AND TESTING DATA"
   ]
  },
  {
   "cell_type": "code",
   "execution_count": 14,
   "id": "0b6727c1",
   "metadata": {},
   "outputs": [],
   "source": [
    "from sklearn.model_selection import train_test_split\n"
   ]
  },
  {
   "cell_type": "code",
   "execution_count": 15,
   "id": "41a79412",
   "metadata": {},
   "outputs": [],
   "source": [
    "x_train,x_test,y_train,y_test=train_test_split(x,y.ravel(),test_size=0.2,random_state=0)"
   ]
  },
  {
   "cell_type": "code",
   "execution_count": 16,
   "id": "f7164aa5",
   "metadata": {},
   "outputs": [
    {
     "data": {
      "text/html": [
       "<div>\n",
       "<style scoped>\n",
       "    .dataframe tbody tr th:only-of-type {\n",
       "        vertical-align: middle;\n",
       "    }\n",
       "\n",
       "    .dataframe tbody tr th {\n",
       "        vertical-align: top;\n",
       "    }\n",
       "\n",
       "    .dataframe thead th {\n",
       "        text-align: right;\n",
       "    }\n",
       "</style>\n",
       "<table border=\"1\" class=\"dataframe\">\n",
       "  <thead>\n",
       "    <tr style=\"text-align: right;\">\n",
       "      <th></th>\n",
       "      <th>sepal_length</th>\n",
       "      <th>sepal_width</th>\n",
       "      <th>petal_length</th>\n",
       "      <th>petal_width</th>\n",
       "    </tr>\n",
       "  </thead>\n",
       "  <tbody>\n",
       "    <tr>\n",
       "      <th>137</th>\n",
       "      <td>6.4</td>\n",
       "      <td>3.1</td>\n",
       "      <td>5.5</td>\n",
       "      <td>1.8</td>\n",
       "    </tr>\n",
       "    <tr>\n",
       "      <th>84</th>\n",
       "      <td>5.4</td>\n",
       "      <td>3.0</td>\n",
       "      <td>4.5</td>\n",
       "      <td>1.5</td>\n",
       "    </tr>\n",
       "    <tr>\n",
       "      <th>27</th>\n",
       "      <td>5.2</td>\n",
       "      <td>3.5</td>\n",
       "      <td>1.5</td>\n",
       "      <td>0.2</td>\n",
       "    </tr>\n",
       "    <tr>\n",
       "      <th>127</th>\n",
       "      <td>6.1</td>\n",
       "      <td>3.0</td>\n",
       "      <td>4.9</td>\n",
       "      <td>1.8</td>\n",
       "    </tr>\n",
       "    <tr>\n",
       "      <th>132</th>\n",
       "      <td>6.4</td>\n",
       "      <td>2.8</td>\n",
       "      <td>5.6</td>\n",
       "      <td>2.2</td>\n",
       "    </tr>\n",
       "    <tr>\n",
       "      <th>...</th>\n",
       "      <td>...</td>\n",
       "      <td>...</td>\n",
       "      <td>...</td>\n",
       "      <td>...</td>\n",
       "    </tr>\n",
       "    <tr>\n",
       "      <th>9</th>\n",
       "      <td>4.9</td>\n",
       "      <td>3.1</td>\n",
       "      <td>1.5</td>\n",
       "      <td>0.1</td>\n",
       "    </tr>\n",
       "    <tr>\n",
       "      <th>103</th>\n",
       "      <td>6.3</td>\n",
       "      <td>2.9</td>\n",
       "      <td>5.6</td>\n",
       "      <td>1.8</td>\n",
       "    </tr>\n",
       "    <tr>\n",
       "      <th>67</th>\n",
       "      <td>5.8</td>\n",
       "      <td>2.7</td>\n",
       "      <td>4.1</td>\n",
       "      <td>1.0</td>\n",
       "    </tr>\n",
       "    <tr>\n",
       "      <th>117</th>\n",
       "      <td>7.7</td>\n",
       "      <td>3.8</td>\n",
       "      <td>6.7</td>\n",
       "      <td>2.2</td>\n",
       "    </tr>\n",
       "    <tr>\n",
       "      <th>47</th>\n",
       "      <td>4.6</td>\n",
       "      <td>3.2</td>\n",
       "      <td>1.4</td>\n",
       "      <td>0.2</td>\n",
       "    </tr>\n",
       "  </tbody>\n",
       "</table>\n",
       "<p>120 rows × 4 columns</p>\n",
       "</div>"
      ],
      "text/plain": [
       "     sepal_length  sepal_width  petal_length  petal_width\n",
       "137           6.4          3.1           5.5          1.8\n",
       "84            5.4          3.0           4.5          1.5\n",
       "27            5.2          3.5           1.5          0.2\n",
       "127           6.1          3.0           4.9          1.8\n",
       "132           6.4          2.8           5.6          2.2\n",
       "..            ...          ...           ...          ...\n",
       "9             4.9          3.1           1.5          0.1\n",
       "103           6.3          2.9           5.6          1.8\n",
       "67            5.8          2.7           4.1          1.0\n",
       "117           7.7          3.8           6.7          2.2\n",
       "47            4.6          3.2           1.4          0.2\n",
       "\n",
       "[120 rows x 4 columns]"
      ]
     },
     "execution_count": 16,
     "metadata": {},
     "output_type": "execute_result"
    }
   ],
   "source": [
    "\n",
    "x_train"
   ]
  },
  {
   "cell_type": "code",
   "execution_count": 17,
   "id": "73814368",
   "metadata": {},
   "outputs": [],
   "source": [
    "from sklearn.preprocessing import StandardScaler"
   ]
  },
  {
   "cell_type": "code",
   "execution_count": 18,
   "id": "9a504891",
   "metadata": {},
   "outputs": [],
   "source": [
    "st=StandardScaler()"
   ]
  },
  {
   "cell_type": "code",
   "execution_count": 19,
   "id": "0968092f",
   "metadata": {},
   "outputs": [],
   "source": [
    "x_train=st.fit_transform(x_train)"
   ]
  },
  {
   "cell_type": "code",
   "execution_count": 20,
   "id": "228240f0",
   "metadata": {},
   "outputs": [],
   "source": [
    "x_test=st.fit_transform(x_test)"
   ]
  },
  {
   "cell_type": "code",
   "execution_count": 21,
   "id": "15c4af0d",
   "metadata": {},
   "outputs": [
    {
     "data": {
      "text/plain": [
       "array([[ 0.61303014,  0.10850105,  0.94751783,  0.73603967],\n",
       "       [-0.56776627, -0.12400121,  0.38491447,  0.34808318],\n",
       "       [-0.80392556,  1.03851009, -1.30289562, -1.3330616 ],\n",
       "       [ 0.25879121, -0.12400121,  0.60995581,  0.73603967],\n",
       "       [ 0.61303014, -0.58900572,  1.00377816,  1.25331499],\n",
       "       [-0.80392556, -0.82150798,  0.04735245,  0.21876435],\n",
       "       [-0.21352735,  1.73601687, -1.19037495, -1.20374277],\n",
       "       [ 0.14071157, -0.82150798,  0.72247648,  0.47740201],\n",
       "       [ 0.02263193, -0.12400121,  0.21613346,  0.34808318],\n",
       "       [-0.09544771, -1.05401024,  0.10361279, -0.03987331],\n",
       "       [ 1.0853487 , -0.12400121,  0.94751783,  1.12399616],\n",
       "       [-1.39432376,  0.34100331, -1.41541629, -1.3330616 ],\n",
       "       [ 1.20342834,  0.10850105,  0.72247648,  1.38263382],\n",
       "       [-1.04008484,  1.03851009, -1.24663528, -0.81578628],\n",
       "       [-0.56776627,  1.50351461, -1.30289562, -1.3330616 ],\n",
       "       [-1.04008484, -2.4490238 , -0.1776889 , -0.29851096],\n",
       "       [ 0.73110978, -0.12400121,  0.94751783,  0.73603967],\n",
       "       [ 0.96726906,  0.57350557,  1.0600385 ,  1.64127148],\n",
       "       [ 0.14071157, -1.98401928,  0.66621615,  0.34808318],\n",
       "       [ 0.96726906, -1.2865125 ,  1.11629884,  0.73603967],\n",
       "       [-0.33160699, -1.2865125 ,  0.04735245, -0.16919214],\n",
       "       [ 2.14806547, -0.12400121,  1.28507985,  1.38263382],\n",
       "       [ 0.49495049,  0.57350557,  0.49743514,  0.47740201],\n",
       "       [-0.44968663, -1.51901476, -0.00890789, -0.16919214],\n",
       "       [ 0.49495049, -0.82150798,  0.60995581,  0.73603967],\n",
       "       [ 0.49495049, -0.58900572,  0.72247648,  0.34808318],\n",
       "       [-1.15816448, -1.2865125 ,  0.38491447,  0.60672084],\n",
       "       [ 0.49495049, -1.2865125 ,  0.66621615,  0.8653585 ],\n",
       "       [ 1.32150798,  0.34100331,  0.49743514,  0.21876435],\n",
       "       [ 0.73110978, -0.12400121,  0.77873682,  0.99467733],\n",
       "       [ 0.14071157,  0.80600783,  0.38491447,  0.47740201],\n",
       "       [-1.27624412,  0.10850105, -1.24663528, -1.3330616 ],\n",
       "       [-0.09544771, -0.82150798,  0.72247648,  0.8653585 ],\n",
       "       [-0.33160699, -0.82150798,  0.21613346,  0.08944552],\n",
       "       [-0.33160699, -0.35650346, -0.12142856,  0.08944552],\n",
       "       [-0.44968663, -1.2865125 ,  0.10361279,  0.08944552],\n",
       "       [ 0.25879121, -0.12400121,  0.4411748 ,  0.21876435],\n",
       "       [ 1.55766726,  0.34100331,  1.22881951,  0.73603967],\n",
       "       [-0.68584591,  1.50351461, -1.30289562, -1.3330616 ],\n",
       "       [-1.86664232, -0.12400121, -1.52793696, -1.46238043],\n",
       "       [ 0.61303014, -0.82150798,  0.83499716,  0.8653585 ],\n",
       "       [-0.21352735, -0.12400121,  0.21613346, -0.03987331],\n",
       "       [-0.56776627,  0.80600783, -1.19037495, -1.3330616 ],\n",
       "       [-0.21352735,  3.13103043, -1.30289562, -1.07442394],\n",
       "       [ 1.20342834,  0.10850105,  0.60995581,  0.34808318],\n",
       "       [-1.5124034 ,  0.10850105, -1.30289562, -1.3330616 ],\n",
       "       [ 0.02263193, -0.12400121,  0.72247648,  0.73603967],\n",
       "       [-0.9220052 , -1.2865125 , -0.45899058, -0.16919214],\n",
       "       [-1.5124034 ,  0.80600783, -1.35915595, -1.20374277],\n",
       "       [ 0.37687085, -1.98401928,  0.38491447,  0.34808318],\n",
       "       [ 1.55766726,  1.27101235,  1.28507985,  1.64127148],\n",
       "       [-0.21352735, -0.35650346,  0.21613346,  0.08944552],\n",
       "       [-1.27624412, -0.12400121, -1.35915595, -1.46238043],\n",
       "       [ 1.43958762, -0.12400121,  1.17255917,  1.12399616],\n",
       "       [ 1.20342834,  0.34100331,  1.0600385 ,  1.38263382],\n",
       "       [ 0.73110978, -0.12400121,  1.11629884,  1.25331499],\n",
       "       [ 0.61303014, -0.58900572,  1.00377816,  1.12399616],\n",
       "       [-0.9220052 ,  1.73601687, -1.24663528, -1.3330616 ],\n",
       "       [-1.27624412,  0.80600783, -1.24663528, -1.3330616 ],\n",
       "       [ 0.73110978,  0.34100331,  0.72247648,  0.99467733],\n",
       "       [ 0.96726906,  0.57350557,  1.0600385 ,  1.12399616],\n",
       "       [-1.63048304, -1.75151702, -1.41541629, -1.20374277],\n",
       "       [ 0.37687085,  0.80600783,  0.89125749,  1.38263382],\n",
       "       [-1.15816448, -0.12400121, -1.35915595, -1.3330616 ],\n",
       "       [-0.21352735, -1.2865125 ,  0.66621615,  0.99467733],\n",
       "       [ 1.20342834,  0.10850105,  0.89125749,  1.12399616],\n",
       "       [-1.74856268,  0.34100331, -1.41541629, -1.3330616 ],\n",
       "       [-1.04008484,  1.27101235, -1.35915595, -1.3330616 ],\n",
       "       [ 1.55766726, -0.12400121,  1.11629884,  0.47740201],\n",
       "       [-0.9220052 ,  1.03851009, -1.35915595, -1.20374277],\n",
       "       [-1.74856268, -0.12400121, -1.41541629, -1.3330616 ],\n",
       "       [-0.56776627,  1.96851913, -1.19037495, -1.07442394],\n",
       "       [-0.44968663, -1.75151702,  0.10361279,  0.08944552],\n",
       "       [ 1.0853487 ,  0.34100331,  1.17255917,  1.38263382],\n",
       "       [ 2.02998583, -0.12400121,  1.56638153,  1.12399616],\n",
       "       [-0.9220052 ,  1.03851009, -1.35915595, -1.3330616 ],\n",
       "       [-1.15816448,  0.10850105, -1.30289562, -1.46238043],\n",
       "       [-0.80392556,  0.80600783, -1.35915595, -1.3330616 ],\n",
       "       [-0.21352735, -0.58900572,  0.38491447,  0.08944552],\n",
       "       [ 0.84918942, -0.12400121,  0.32865413,  0.21876435],\n",
       "       [-1.04008484,  0.34100331, -1.47167663, -1.3330616 ],\n",
       "       [-0.9220052 ,  0.57350557, -1.19037495, -0.94510511],\n",
       "       [ 0.61303014, -0.35650346,  0.27239379,  0.08944552],\n",
       "       [-0.56776627,  0.80600783, -1.30289562, -1.07442394],\n",
       "       [ 2.14806547, -1.05401024,  1.73516253,  1.38263382],\n",
       "       [-1.15816448, -1.51901476, -0.29020957, -0.29851096],\n",
       "       [ 2.38422475,  1.73601687,  1.45386085,  0.99467733],\n",
       "       [ 0.96726906,  0.10850105,  0.32865413,  0.21876435],\n",
       "       [-0.80392556,  2.43352365, -1.30289562, -1.46238043],\n",
       "       [ 0.14071157, -0.12400121,  0.55369548,  0.73603967],\n",
       "       [-0.09544771,  2.20102139, -1.47167663, -1.3330616 ],\n",
       "       [ 2.14806547, -0.58900572,  1.62264186,  0.99467733],\n",
       "       [-0.9220052 ,  1.73601687, -1.30289562, -1.20374277],\n",
       "       [-1.39432376,  0.34100331, -1.24663528, -1.3330616 ],\n",
       "       [ 1.79382654, -0.58900572,  1.28507985,  0.8653585 ],\n",
       "       [-1.04008484,  0.57350557, -1.35915595, -1.3330616 ],\n",
       "       [ 0.49495049,  0.80600783,  1.00377816,  1.51195265],\n",
       "       [-0.21352735, -0.58900572,  0.15987312,  0.08944552],\n",
       "       [-0.09544771, -0.82150798,  0.04735245, -0.03987331],\n",
       "       [-0.21352735, -1.05401024, -0.1776889 , -0.29851096],\n",
       "       [ 0.61303014,  0.34100331,  0.83499716,  1.38263382],\n",
       "       [ 0.96726906, -0.12400121,  0.77873682,  1.38263382],\n",
       "       [ 0.49495049, -1.2865125 ,  0.60995581,  0.34808318],\n",
       "       [ 0.96726906, -0.12400121,  0.66621615,  0.60672084],\n",
       "       [-1.04008484, -0.12400121, -1.24663528, -1.3330616 ],\n",
       "       [-0.44968663, -1.51901476, -0.06516822, -0.29851096],\n",
       "       [ 0.96726906,  0.10850105,  1.00377816,  1.51195265],\n",
       "       [-0.09544771, -0.82150798,  0.72247648,  0.8653585 ],\n",
       "       [-0.9220052 ,  0.80600783, -1.30289562, -1.3330616 ],\n",
       "       [ 0.84918942, -0.35650346,  0.4411748 ,  0.08944552],\n",
       "       [-0.33160699, -0.12400121,  0.15987312,  0.08944552],\n",
       "       [ 0.02263193,  0.34100331,  0.55369548,  0.73603967],\n",
       "       [ 0.49495049, -1.75151702,  0.32865413,  0.08944552],\n",
       "       [-0.44968663,  1.03851009, -1.41541629, -1.3330616 ],\n",
       "       [-0.9220052 ,  1.50351461, -1.30289562, -1.07442394],\n",
       "       [-1.15816448,  0.10850105, -1.30289562, -1.46238043],\n",
       "       [ 0.49495049, -0.35650346,  1.00377816,  0.73603967],\n",
       "       [-0.09544771, -0.82150798,  0.15987312, -0.29851096],\n",
       "       [ 2.14806547,  1.73601687,  1.62264186,  1.25331499],\n",
       "       [-1.5124034 ,  0.34100331, -1.35915595, -1.3330616 ]])"
      ]
     },
     "execution_count": 21,
     "metadata": {},
     "output_type": "execute_result"
    }
   ],
   "source": [
    "x_train\n"
   ]
  },
  {
   "cell_type": "code",
   "execution_count": 22,
   "id": "4f96d693",
   "metadata": {},
   "outputs": [
    {
     "data": {
      "text/plain": [
       "array(['Iris-virginica', 'Iris-versicolor', 'Iris-setosa',\n",
       "       'Iris-virginica', 'Iris-virginica', 'Iris-versicolor',\n",
       "       'Iris-setosa', 'Iris-versicolor', 'Iris-versicolor',\n",
       "       'Iris-versicolor', 'Iris-virginica', 'Iris-setosa',\n",
       "       'Iris-virginica', 'Iris-setosa', 'Iris-setosa', 'Iris-versicolor',\n",
       "       'Iris-virginica', 'Iris-virginica', 'Iris-virginica',\n",
       "       'Iris-virginica', 'Iris-versicolor', 'Iris-virginica',\n",
       "       'Iris-versicolor', 'Iris-versicolor', 'Iris-virginica',\n",
       "       'Iris-virginica', 'Iris-virginica', 'Iris-virginica',\n",
       "       'Iris-versicolor', 'Iris-virginica', 'Iris-versicolor',\n",
       "       'Iris-setosa', 'Iris-virginica', 'Iris-versicolor',\n",
       "       'Iris-versicolor', 'Iris-versicolor', 'Iris-versicolor',\n",
       "       'Iris-virginica', 'Iris-setosa', 'Iris-setosa', 'Iris-virginica',\n",
       "       'Iris-versicolor', 'Iris-setosa', 'Iris-setosa', 'Iris-versicolor',\n",
       "       'Iris-setosa', 'Iris-virginica', 'Iris-versicolor', 'Iris-setosa',\n",
       "       'Iris-versicolor', 'Iris-virginica', 'Iris-versicolor',\n",
       "       'Iris-setosa', 'Iris-virginica', 'Iris-virginica',\n",
       "       'Iris-virginica', 'Iris-virginica', 'Iris-setosa', 'Iris-setosa',\n",
       "       'Iris-virginica', 'Iris-virginica', 'Iris-setosa',\n",
       "       'Iris-virginica', 'Iris-setosa', 'Iris-virginica',\n",
       "       'Iris-virginica', 'Iris-setosa', 'Iris-setosa', 'Iris-virginica',\n",
       "       'Iris-setosa', 'Iris-setosa', 'Iris-setosa', 'Iris-versicolor',\n",
       "       'Iris-virginica', 'Iris-virginica', 'Iris-setosa', 'Iris-setosa',\n",
       "       'Iris-setosa', 'Iris-versicolor', 'Iris-versicolor', 'Iris-setosa',\n",
       "       'Iris-setosa', 'Iris-versicolor', 'Iris-setosa', 'Iris-virginica',\n",
       "       'Iris-versicolor', 'Iris-virginica', 'Iris-versicolor',\n",
       "       'Iris-setosa', 'Iris-virginica', 'Iris-setosa', 'Iris-virginica',\n",
       "       'Iris-setosa', 'Iris-setosa', 'Iris-virginica', 'Iris-setosa',\n",
       "       'Iris-virginica', 'Iris-versicolor', 'Iris-versicolor',\n",
       "       'Iris-versicolor', 'Iris-virginica', 'Iris-virginica',\n",
       "       'Iris-versicolor', 'Iris-versicolor', 'Iris-setosa',\n",
       "       'Iris-versicolor', 'Iris-virginica', 'Iris-virginica',\n",
       "       'Iris-setosa', 'Iris-versicolor', 'Iris-versicolor',\n",
       "       'Iris-versicolor', 'Iris-versicolor', 'Iris-setosa', 'Iris-setosa',\n",
       "       'Iris-setosa', 'Iris-virginica', 'Iris-versicolor',\n",
       "       'Iris-virginica', 'Iris-setosa'], dtype=object)"
      ]
     },
     "execution_count": 22,
     "metadata": {},
     "output_type": "execute_result"
    }
   ],
   "source": [
    "y_train"
   ]
  },
  {
   "cell_type": "markdown",
   "id": "4f7c08c9",
   "metadata": {},
   "source": [
    "K NEAREST NEIGHBOR CLASSIFIER ALGORITHM IMPLEMENTATION"
   ]
  },
  {
   "cell_type": "code",
   "execution_count": 23,
   "id": "7b20b5a8",
   "metadata": {},
   "outputs": [],
   "source": [
    "from sklearn.neighbors import KNeighborsClassifier\n",
    "import numpy as np\n"
   ]
  },
  {
   "cell_type": "markdown",
   "id": "fd33047a",
   "metadata": {},
   "source": [
    "CALCULATING ERROR FOR K VALUE BETWEEN 1 AND 40"
   ]
  },
  {
   "cell_type": "code",
   "execution_count": 24,
   "id": "0ce2e44c",
   "metadata": {},
   "outputs": [],
   "source": [
    "error=[]\n",
    "for i in range(1,40):\n",
    "  knn=KNeighborsClassifier(n_neighbors=i)\n",
    "  knn.fit(x_train,y_train)\n",
    "  pred_i=knn.predict(x_test)\n",
    "  error.append(np.mean(pred_i!=y_test))\n",
    "\n",
    "\n"
   ]
  },
  {
   "cell_type": "code",
   "execution_count": 25,
   "id": "0f391fb6",
   "metadata": {},
   "outputs": [],
   "source": [
    "import matplotlib.pyplot as plt"
   ]
  },
  {
   "cell_type": "markdown",
   "id": "b82e2143",
   "metadata": {},
   "source": [
    "PLOTTING THE GRAPH FOR MEAN ERROR AND CORRESPONDING K VALUE"
   ]
  },
  {
   "cell_type": "code",
   "execution_count": 26,
   "id": "e37c7677",
   "metadata": {},
   "outputs": [
    {
     "name": "stdout",
     "output_type": "stream",
     "text": [
      "Minimum error  0.1 at k=  4\n"
     ]
    },
    {
     "data": {
      "image/png": "[encoded data removed]",
      "text/plain": [
       "<Figure size 432x288 with 1 Axes>"
      ]
     },
     "metadata": {
      "needs_background": "light"
     },
     "output_type": "display_data"
    }
   ],
   "source": [
    "plt.plot(range(1,40),error,color='red',linestyle='dashed',marker='o',markerfacecolor='green')\n",
    "plt.xlabel('K Value')\n",
    "plt.ylabel('Mean Error')\n",
    "print(\"Minimum error \",min(error),\"at k= \",error.index(min(error))+1)"
   ]
  },
  {
   "cell_type": "code",
   "execution_count": 27,
   "id": "be8cb19c",
   "metadata": {},
   "outputs": [
    {
     "data": {
      "text/plain": [
       "[0.16666666666666666,\n",
       " 0.13333333333333333,\n",
       " 0.13333333333333333,\n",
       " 0.1,\n",
       " 0.13333333333333333,\n",
       " 0.1,\n",
       " 0.16666666666666666,\n",
       " 0.1,\n",
       " 0.16666666666666666,\n",
       " 0.16666666666666666,\n",
       " 0.16666666666666666,\n",
       " 0.16666666666666666,\n",
       " 0.2,\n",
       " 0.2,\n",
       " 0.2,\n",
       " 0.2,\n",
       " 0.2,\n",
       " 0.2,\n",
       " 0.23333333333333334,\n",
       " 0.2,\n",
       " 0.2,\n",
       " 0.2,\n",
       " 0.2,\n",
       " 0.2,\n",
       " 0.2,\n",
       " 0.2,\n",
       " 0.23333333333333334,\n",
       " 0.2,\n",
       " 0.2,\n",
       " 0.2,\n",
       " 0.2,\n",
       " 0.2,\n",
       " 0.2,\n",
       " 0.2,\n",
       " 0.2,\n",
       " 0.2,\n",
       " 0.23333333333333334,\n",
       " 0.2,\n",
       " 0.23333333333333334]"
      ]
     },
     "execution_count": 27,
     "metadata": {},
     "output_type": "execute_result"
    }
   ],
   "source": [
    "error"
   ]
  },
  {
   "cell_type": "code",
   "execution_count": 28,
   "id": "aac77ed4",
   "metadata": {},
   "outputs": [],
   "source": [
    "classifier=KNeighborsClassifier(n_neighbors=4)"
   ]
  },
  {
   "cell_type": "code",
   "execution_count": 29,
   "id": "eeda1159",
   "metadata": {},
   "outputs": [
    {
     "data": {
      "text/plain": [
       "KNeighborsClassifier(n_neighbors=4)"
      ]
     },
     "execution_count": 29,
     "metadata": {},
     "output_type": "execute_result"
    }
   ],
   "source": [
    "classifier.fit(x_train,y_train)"
   ]
  },
  {
   "cell_type": "markdown",
   "id": "f6914b33",
   "metadata": {},
   "source": [
    "PREDICTING THE VALUE Y FOR TESTING DATA SET"
   ]
  },
  {
   "cell_type": "code",
   "execution_count": 30,
   "id": "fa4c2961",
   "metadata": {},
   "outputs": [],
   "source": [
    "y_pred=classifier.predict(x_test)"
   ]
  },
  {
   "cell_type": "code",
   "execution_count": 31,
   "id": "dd786c37",
   "metadata": {},
   "outputs": [
    {
     "data": {
      "text/plain": [
       "array(['Iris-virginica', 'Iris-versicolor', 'Iris-setosa',\n",
       "       'Iris-virginica', 'Iris-setosa', 'Iris-virginica', 'Iris-setosa',\n",
       "       'Iris-versicolor', 'Iris-versicolor', 'Iris-versicolor',\n",
       "       'Iris-virginica', 'Iris-versicolor', 'Iris-versicolor',\n",
       "       'Iris-versicolor', 'Iris-virginica', 'Iris-setosa',\n",
       "       'Iris-virginica', 'Iris-versicolor', 'Iris-setosa', 'Iris-setosa',\n",
       "       'Iris-virginica', 'Iris-virginica', 'Iris-setosa', 'Iris-setosa',\n",
       "       'Iris-virginica', 'Iris-setosa', 'Iris-setosa', 'Iris-versicolor',\n",
       "       'Iris-versicolor', 'Iris-setosa'], dtype=object)"
      ]
     },
     "execution_count": 31,
     "metadata": {},
     "output_type": "execute_result"
    }
   ],
   "source": [
    "y_pred\n"
   ]
  },
  {
   "cell_type": "markdown",
   "id": "af1a66c0",
   "metadata": {},
   "source": [
    "DISPLAYING CONFUSION MATRIX"
   ]
  },
  {
   "cell_type": "code",
   "execution_count": 32,
   "id": "097d0273",
   "metadata": {},
   "outputs": [],
   "source": [
    "from sklearn.metrics import confusion_matrix"
   ]
  },
  {
   "cell_type": "code",
   "execution_count": 33,
   "id": "74bcfe5d",
   "metadata": {},
   "outputs": [
    {
     "data": {
      "text/plain": [
       "array([[11,  0,  0],\n",
       "       [ 0, 10,  3],\n",
       "       [ 0,  0,  6]], dtype=int64)"
      ]
     },
     "execution_count": 33,
     "metadata": {},
     "output_type": "execute_result"
    }
   ],
   "source": [
    "confusion_matrix(y_test,y_pred)\n"
   ]
  },
  {
   "cell_type": "code",
   "execution_count": 34,
   "id": "1cca6c18",
   "metadata": {},
   "outputs": [],
   "source": [
    "from sklearn import metrics"
   ]
  },
  {
   "cell_type": "markdown",
   "id": "3a65277e",
   "metadata": {},
   "source": [
    "FINDIG THE ACCURACY FOR THE KNN ALGORITHM"
   ]
  },
  {
   "cell_type": "code",
   "execution_count": 35,
   "id": "3d1f273b",
   "metadata": {},
   "outputs": [
    {
     "name": "stdout",
     "output_type": "stream",
     "text": [
      "\n",
      "Accuracy Of KNNF For The Given Dataset :  0.9\n"
     ]
    }
   ],
   "source": [
    "print(\"\\nAccuracy Of KNNF For The Given Dataset : \",metrics.accuracy_score(y_test,y_pred))"
   ]
  },
  {
   "cell_type": "code",
   "execution_count": 36,
   "id": "848dcf21",
   "metadata": {},
   "outputs": [
    {
     "name": "stdout",
     "output_type": "stream",
     "text": [
      "Prediction: ['Iris-virginica']\n"
     ]
    }
   ],
   "source": [
    "# giving inputs to the machine learning model\n",
    "# features = [[sepal_length, sepal_width, petal_length, petal_width]]\n",
    "features = np.array([[5, 2.9, 1, 0.2]])\n",
    "# using inputs to predict the output\n",
    "prediction = knn.predict(features)\n",
    "print(\"Prediction: {}\".format(prediction))"
   ]
  },
  {
   "cell_type": "code",
   "execution_count": 37,
   "id": "af54d1b5",
   "metadata": {},
   "outputs": [
    {
     "name": "stdout",
     "output_type": "stream",
     "text": [
      "sepal_length4\n",
      "sepal_width2.5\n",
      "petal_length5\n",
      "petal_width3.5\n",
      "Prediction: ['Iris-virginica']\n"
     ]
    }
   ],
   "source": [
    "w=input(\"sepal_length\")\n",
    "x=input(\"sepal_width\")\n",
    "y=input(\"petal_length\")\n",
    "z=input(\"petal_width\")\n",
    "features = np.array([[w, x, y, z]])\n",
    "prediction = knn.predict(features)\n",
    "print(\"Prediction: {}\".format(prediction))\n"
   ]
  },
  {
   "cell_type": "code",
   "execution_count": null,
   "id": "7866259d",
   "metadata": {},
   "outputs": [],
   "source": []
  }
 ],
 "metadata": {
  "kernelspec": {
   "display_name": "Python 3 (ipykernel)",
   "language": "python",
   "name": "python3"
  },
  "language_info": {
   "codemirror_mode": {
    "name": "ipython",
    "version": 3
   },
   "file_extension": ".py",
   "mimetype": "text/x-python",
   "name": "python",
   "nbconvert_exporter": "python",
   "pygments_lexer": "ipython3",
   "version": "3.9.7"
  }
 },
 "nbformat": 4,
 "nbformat_minor": 5
}
